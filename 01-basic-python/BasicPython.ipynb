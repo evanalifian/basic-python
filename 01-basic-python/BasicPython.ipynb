{
 "cells": [
  {
   "cell_type": "code",
   "execution_count": 11,
   "id": "8dcfb53e-3785-4db1-b077-0b571abbdf2a",
   "metadata": {},
   "outputs": [
    {
     "name": "stdout",
     "output_type": "stream",
     "text": [
      "Hello, World!\n"
     ]
    }
   ],
   "source": [
    "print(\"Hello, World!\")"
   ]
  },
  {
   "cell_type": "code",
   "execution_count": 3,
   "id": "d261ebfb-4342-43e0-b96a-7af5724c1a7f",
   "metadata": {},
   "outputs": [
    {
     "name": "stdout",
     "output_type": "stream",
     "text": [
      "Hello, World!\n"
     ]
    }
   ],
   "source": [
    "# comment in python\n",
    "# you can write multiple line in comment like this:\n",
    "\"\"\"\n",
    "This is multiple line comments\n",
    "\n",
    "firts\n",
    "second\n",
    "third\n",
    "\"\"\"\n",
    "print(\"Hello, World!\")"
   ]
  },
  {
   "cell_type": "code",
   "execution_count": 4,
   "id": "52de1a39-c04d-4a4c-bd3d-ad82809d5442",
   "metadata": {},
   "outputs": [
    {
     "name": "stdout",
     "output_type": "stream",
     "text": [
      "2005 <class 'int'>\n",
      "1.5 <class 'float'>\n",
      "(1+5j) <class 'complex'>\n",
      "cnsl.lg <class 'str'>\n",
      "True <class 'bool'>\n",
      "False <class 'bool'>\n",
      "['evanalifian', 19, True] <class 'list'>\n",
      "('evanalifian', 19, True) <class 'tuple'>\n",
      "{'name': 'Evan Alifian', 'age': 19, 'graduated': True} <class 'dict'>\n"
     ]
    }
   ],
   "source": [
    "\"\"\"\n",
    "There are some data types in python\n",
    "\"\"\"\n",
    "\n",
    "# Nomeric\n",
    "print(2005, type(2005))\n",
    "print(1.5, type(1.5))\n",
    "print(1 + 5j, type(1 + 5j))\n",
    "\n",
    "# String\n",
    "print(\"cnsl.lg\", type(\"cnsl.lg\"))\n",
    "\n",
    "# Boolean\n",
    "print(True, type(True))\n",
    "print(False, type(False))\n",
    "\n",
    "# Sequence\n",
    "print([\"evanalifian\", 19, True], type([\"evanalifian\", 19, True]))\n",
    "print((\"evanalifian\", 19, True), type((\"evanalifian\", 19, True)))\n",
    "\n",
    "# Mapping\n",
    "print({\"name\": \"Evan Alifian\", \"age\": 19, \"graduated\": True}, type({\"name\": \"Evan Alifian\", \"age\": 19, \"graduated\": True}))"
   ]
  },
  {
   "cell_type": "code",
   "execution_count": 2,
   "id": "04393533-7afb-41a9-bc27-6f803bc30d34",
   "metadata": {},
   "outputs": [
    {
     "name": "stdout",
     "output_type": "stream",
     "text": [
      "Evan Rafa Radya Alifian\n",
      "{'name': 'Instagram', 'url': 'https://instagram.com'}\n",
      "['Javascript', 'Python']\n"
     ]
    }
   ],
   "source": [
    "# Variable in python\n",
    "myName = \"Evan Rafa Radya Alifian\"\n",
    "SocialMedia = {\n",
    "    \"name\": \"Instagram\",\n",
    "    \"url\": \"https://instagram.com\"\n",
    "}\n",
    "programming_languages = [\"Javascript\", \"Python\"]\n",
    "\n",
    "print(myName)\n",
    "print(SocialMedia)\n",
    "print(programming_languages)"
   ]
  },
  {
   "cell_type": "code",
   "execution_count": 14,
   "id": "a976b43a-6f0e-417f-8157-ae648199fa6f",
   "metadata": {},
   "outputs": [
    {
     "name": "stdout",
     "output_type": "stream",
     "text": [
      "1 20 2.5\n",
      "<class 'str'> <class 'int'> <class 'float'>\n"
     ]
    }
   ],
   "source": [
    "# casting\n",
    "\n",
    "x, y, z = str(1), int(20), float(2.5)\n",
    "print(x, y, z)\n",
    "print(type(x), type(y), type(z))"
   ]
  },
  {
   "cell_type": "code",
   "execution_count": 31,
   "id": "60ba43f8-f2ca-424b-a356-88bd570ba925",
   "metadata": {
    "scrolled": true
   },
   "outputs": [
    {
     "name": "stdout",
     "output_type": "stream",
     "text": [
      "3\n",
      "1\n",
      "32\n",
      "4.0\n",
      "2\n",
      "16\n",
      "2\n",
      "False\n",
      "True\n",
      "True\n",
      "False\n",
      "True\n",
      "False\n",
      "a :  20\n",
      "a += b :  27\n",
      "a -= b :  20\n",
      "a *= b :  140\n",
      "a /= b :  20.0\n",
      "a %= b :  6.0\n",
      "a **= b :  279936.0\n",
      "a //= b :  39990.0\n",
      "False\n",
      "True\n",
      "False\n",
      "True\n",
      "True\n",
      "True\n",
      "True\n"
     ]
    }
   ],
   "source": [
    "\"\"\"\n",
    "Operators in Python\n",
    "\"\"\"\n",
    "\n",
    "# arithmetic operators\n",
    "print(1 + 2) # addition\n",
    "print(2 - 1) # subtraction\n",
    "print(4 * 8) # multiplication\n",
    "print(28 / 7) # division\n",
    "print(20 % 3) # modulus\n",
    "print(2 ** 4) # exponentiation\n",
    "print(20 // 7) # floor division\n",
    "\n",
    "# comparison operators\n",
    "print(2 == 4) # equal\n",
    "print(2 != 4) # not equal\n",
    "print(10 > 9) # greater than\n",
    "print(22 < 9) # less than\n",
    "print(50 >= 50) # greater than or equal in\n",
    "print(30 <= 10) # less than or equal in\n",
    "\n",
    "# assignment operators\n",
    "a = 20\n",
    "b = 7\n",
    "print('a : ', a)\n",
    "a += b\n",
    "print('a += b : ', a)\n",
    "a -= b\n",
    "print('a -= b : ', a)\n",
    "a *= b\n",
    "print('a *= b : ', a)\n",
    "a /= b\n",
    "print('a /= b : ', a)\n",
    "a %= b\n",
    "print('a %= b : ', a)\n",
    "a **= b\n",
    "print('a **= b : ', a)\n",
    "a //= b\n",
    "print('a //= b : ', a)\n",
    "\n",
    "# logical operators\n",
    "print(3 < 5 and  3 > 10) # and\n",
    "print(3 < 5 or 3 < 4) # and\n",
    "print(not(3 < 5 and 3 < 10)) # and\n",
    "\n",
    "# identity operators\n",
    "h, i, j = 2, 2, 5\n",
    "print(h is i)\n",
    "print(h is not j)\n",
    "\n",
    "# membership operators\n",
    "x = ['javascript', 'python', 'php']\n",
    "print('javascript' in x)\n",
    "print('c++' not in x)"
   ]
  },
  {
   "cell_type": "code",
   "execution_count": null,
   "id": "32a47d9e-7dc8-4254-ace2-757f727eae0a",
   "metadata": {},
   "outputs": [],
   "source": []
  }
 ],
 "metadata": {
  "kernelspec": {
   "display_name": "Python 3 (ipykernel)",
   "language": "python",
   "name": "python3"
  },
  "language_info": {
   "codemirror_mode": {
    "name": "ipython",
    "version": 3
   },
   "file_extension": ".py",
   "mimetype": "text/x-python",
   "name": "python",
   "nbconvert_exporter": "python",
   "pygments_lexer": "ipython3",
   "version": "3.12.3"
  }
 },
 "nbformat": 4,
 "nbformat_minor": 5
}

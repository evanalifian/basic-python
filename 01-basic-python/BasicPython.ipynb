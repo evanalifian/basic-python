{
 "cells": [
  {
   "cell_type": "code",
   "execution_count": 11,
   "id": "8dcfb53e-3785-4db1-b077-0b571abbdf2a",
   "metadata": {},
   "outputs": [
    {
     "name": "stdout",
     "output_type": "stream",
     "text": [
      "Hello, World!\n"
     ]
    }
   ],
   "source": [
    "print(\"Hello, World!\")"
   ]
  },
  {
   "cell_type": "code",
   "execution_count": 18,
   "id": "d261ebfb-4342-43e0-b96a-7af5724c1a7f",
   "metadata": {},
   "outputs": [
    {
     "name": "stdout",
     "output_type": "stream",
     "text": [
      "Hello, World!\n"
     ]
    }
   ],
   "source": [
    "# comment in python\n",
    "# you can write multiple line in comment like this:\n",
    "\"\"\"\n",
    "firts\n",
    "second\n",
    "third\n",
    "\"\"\"\n",
    "print(\"Hello, World!\")"
   ]
  },
  {
   "cell_type": "code",
   "execution_count": 26,
   "id": "52de1a39-c04d-4a4c-bd3d-ad82809d5442",
   "metadata": {},
   "outputs": [
    {
     "name": "stdout",
     "output_type": "stream",
     "text": [
      "2005 <class 'int'>\n",
      "1.5 <class 'float'>\n",
      "(1+5j) <class 'complex'>\n",
      "cnsl.lg <class 'str'>\n",
      "True <class 'bool'>\n",
      "False <class 'bool'>\n",
      "['evanalifian', 19, True] <class 'list'>\n",
      "('evanalifian', 19, True) <class 'tuple'>\n",
      "{'name': 'Evan Alifian', 'age': 19, 'graduated': True} <class 'dict'>\n"
     ]
    }
   ],
   "source": [
    "\"\"\"\n",
    "There are some data types in python\n",
    "\"\"\"\n",
    "\n",
    "# Nomeric\n",
    "print(2005, type(2005))\n",
    "print(1.5, type(1.5))\n",
    "print(1 + 5j, type(1 + 5j))\n",
    "\n",
    "# String\n",
    "print(\"cnsl.lg\", type(\"cnsl.lg\"))\n",
    "\n",
    "# Boolean\n",
    "print(True, type(True))\n",
    "print(False, type(False))\n",
    "\n",
    "# Sequence\n",
    "print([\"evanalifian\", 19, True], type([\"evanalifian\", 19, True]))\n",
    "print((\"evanalifian\", 19, True), type((\"evanalifian\", 19, True)))\n",
    "\n",
    "# Mapping\n",
    "print({\"name\": \"Evan Alifian\", \"age\": 19, \"graduated\": True}, type({\"name\": \"Evan Alifian\", \"age\": 19, \"graduated\": True}))"
   ]
  },
  {
   "cell_type": "code",
   "execution_count": 27,
   "id": "04393533-7afb-41a9-bc27-6f803bc30d34",
   "metadata": {},
   "outputs": [
    {
     "name": "stdout",
     "output_type": "stream",
     "text": [
      "Evan Rafa Radya Alifian\n",
      "{'name': 'Instagram', 'url': 'https://instagram.com'}\n",
      "['Javascript', 'Python']\n"
     ]
    }
   ],
   "source": [
    "# Variable in python\n",
    "myName = \"Evan Rafa Radya Alifian\"\n",
    "SocialMedia = {\n",
    "    \"name\": \"Instagram\",\n",
    "    \"url\": \"https://instagram.com\"\n",
    "}\n",
    "programming_languages = [\"Javascript\", \"Python\"]\n",
    "\n",
    "print(myName)\n",
    "print(SocialMedia)\n",
    "print(programming_languages)"
   ]
  },
  {
   "cell_type": "code",
   "execution_count": null,
   "id": "3e1883dd-d6fb-456c-8d85-f55dfef1dc34",
   "metadata": {},
   "outputs": [],
   "source": []
  }
 ],
 "metadata": {
  "kernelspec": {
   "display_name": "Python 3 (ipykernel)",
   "language": "python",
   "name": "python3"
  },
  "language_info": {
   "codemirror_mode": {
    "name": "ipython",
    "version": 3
   },
   "file_extension": ".py",
   "mimetype": "text/x-python",
   "name": "python",
   "nbconvert_exporter": "python",
   "pygments_lexer": "ipython3",
   "version": "3.12.3"
  }
 },
 "nbformat": 4,
 "nbformat_minor": 5
}
